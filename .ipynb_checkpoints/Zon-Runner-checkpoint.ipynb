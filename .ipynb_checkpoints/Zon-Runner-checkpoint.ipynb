{
 "cells": [
  {
   "cell_type": "code",
   "execution_count": 68,
   "metadata": {},
   "outputs": [
    {
     "name": "stdout",
     "output_type": "stream",
     "text": [
      "Downloading https://www.amazon.com/Thnapple-Alpaca-Llama-Hooded-Blanket/dp/B07YCRW4X5/ref=sxin_8_ac_d_rm?ac_md=0-0-bGxhbWE%3D-ac_d_rm&cv_ct_cx=llama&dchild=1&keywords=llama&pd_rd_i=B07YCRW4X5&pd_rd_r=6ec77f10-5adf-4097-af53-bb5fc8d826d6&pd_rd_w=taAzD&pd_rd_wg=H6w76&pf_rd_p=dc697a3c-c4bf-4bf1-bf88-86b22dd0aad3&pf_rd_r=MQBRWRZPDRE8NF2WJ6MG&psc=1&qid=1592865842&sr=1-1-12d4272d-8adb-4121-8624-135149aa9081\n"
     ]
    }
   ],
   "source": [
    "!python3 amazon.py"
   ]
  },
  {
   "cell_type": "code",
   "execution_count": 69,
   "metadata": {},
   "outputs": [],
   "source": [
    "import json \n",
    "import pandas as pd\n",
    "import numpy as np \n",
    "#json.load(json_data)\n",
    "#df = pd.read_json('search_results_output.jsonl')\n",
    "\n",
    "with open('output.jsonl','r') as zon: \n",
    "    results = [json.loads(j) for j in zon ]"
   ]
  },
  {
   "cell_type": "code",
   "execution_count": 70,
   "metadata": {},
   "outputs": [
    {
     "data": {
      "text/plain": [
       "71"
      ]
     },
     "execution_count": 70,
     "metadata": {},
     "output_type": "execute_result"
    }
   ],
   "source": [
    "import re\n",
    "int(re.findall('\\d+',results[0]['number_of_reviews'])[0])"
   ]
  },
  {
   "cell_type": "code",
   "execution_count": 71,
   "metadata": {},
   "outputs": [
    {
     "data": {
      "text/plain": [
       "{'name': 'Thnapple Alpaca Llama Wearable Hooded Blanket',\n",
       " 'price': '$39.99',\n",
       " 'short_description': 'About this item This fits your . Make sure this fits by entering your model number. P.when(\"ReplacementPartsBulletLoader\").execute(function(module){ module.initializeDPX(); }) Extremely cozy, two layers, soft, and warm for adults and kids to snuggle into. The wearable hooded blanket turns into an Alpaca Llama with hand pockets as hooves. Perfect gift for Alpaca Llama lovers young and old, children and adults. Keep your hands warm with corner pockets as Alpaca Llama hooves. Washable and Durable. Size is 60Wx49L.',\n",
       " 'images': '{\"https://images-na.ssl-images-amazon.com/images/I/71Z63PlFVYL._AC_SX425_.jpg\":[425,425],\"https://images-na.ssl-images-amazon.com/images/I/71Z63PlFVYL._AC_SX522_.jpg\":[522,522],\"https://images-na.ssl-images-amazon.com/images/I/71Z63PlFVYL._AC_SX679_.jpg\":[679,679],\"https://images-na.ssl-images-amazon.com/images/I/71Z63PlFVYL._AC_SX466_.jpg\":[466,466],\"https://images-na.ssl-images-amazon.com/images/I/71Z63PlFVYL._AC_SY450_.jpg\":[450,450],\"https://images-na.ssl-images-amazon.com/images/I/71Z63PlFVYL._AC_SX569_.jpg\":[569,569],\"https://images-na.ssl-images-amazon.com/images/I/71Z63PlFVYL._AC_SY355_.jpg\":[355,355]}',\n",
       " 'rating': None,\n",
       " 'number_of_reviews': '71  customer ratings',\n",
       " 'star_ratings': 'Customer ratings by feature',\n",
       " 'variants': None,\n",
       " 'product_description': 'Alpaca Llama Wearable Hooded Blanket for Adults and Kids',\n",
       " 'sales_rank': None,\n",
       " 'link_to_all_reviews': '/Thnapple-Alpaca-Llama-Hooded-Blanket/product-reviews/B07YCRW4X5/ref=cm_cr_dp_d_show_all_btm?ie=UTF8&reviewerType=all_reviews'}"
      ]
     },
     "execution_count": 71,
     "metadata": {},
     "output_type": "execute_result"
    }
   ],
   "source": [
    "results[0]"
   ]
  },
  {
   "cell_type": "markdown",
   "metadata": {},
   "source": [
    "### Testing out search_results.py"
   ]
  },
  {
   "cell_type": "code",
   "execution_count": 1,
   "metadata": {},
   "outputs": [
    {
     "name": "stdout",
     "output_type": "stream",
     "text": [
      "Downloading https://www.amazon.com/s?k=laptops\n",
      "Saving Product: 2020 Newest HP 14 Inch Premium Laptop, AMD Athlon Silver 3050U up to 3.2 GHz, 4GB DDR4 RAM, 128GB SSD, WiFi, HDMI, Windows 10 in S, Jet Black + NexiGo Wireless Mouse Bundle\n",
      "Saving Product: 2020 Acer Aspire 5 15.6 Inch FHD 1080P Slim Laptop| AMD Ryzen 3 3200U up to 3.5 GHz| 8GB RAM| 128GB SSD| Backlit KB| WiFi| Bluetooth| HDMI| Windows 10 + NexiGo Wireless Mouse Bundle\n",
      "Saving Product: Acer Aspire 5 Slim Laptop, 15.6 inches Full HD IPS Display, AMD Ryzen 3 3200U, Vega 3 Graphics, 4GB DDR4, 128GB SSD, Backlit Keyboard, Windows 10 in S Mode, A515-43-R19L,Silver\n",
      "Saving Product: New Apple MacBook Air (13-inch, 8GB RAM, 256GB SSD Storage) - Gold\n",
      "Saving Product: 2020 HP 14 inch HD Laptop Newest for Business and Student, AMD Athlon Silver 3050U (Beat i5-7200U), 4GB DDR4 RAM, 128GB SSD, 802.11ac, WiFi, Bluetooth, HDMI, Windows 10 w/HESVAP 3in1 Accessories\n",
      "Saving Product: ASUS VivoBook L203MA Laptop, 11.6” HD Display, Intel Celeron Dual Core CPU, 4GB RAM, 64GB Storage, USB-C, Windows 10 Home In S Mode, Up To 10 Hours Battery Life, One Year of Microsoft 365, L203MA-DS04\n",
      "Saving Product: Acer Aspire 5 Slim Laptop, 15.6\" Full HD IPS Display, 10th Gen Intel Core i5-10210U, 8GB DDR4, 256GB PCIe NVMe SSD, Intel Wi-Fi 6 AX201 802.11ax, Fingerprint Reader, Backlit KB, A515-54-59W2, Silver\n",
      "Saving Product: HP 15-Inch FHD Laptop, 10th Gen Intel Core i5-1035G1, 8 GB RAM, 256 GB Solid-State Drive, Windows 10 Home (15-dy1036nr, Natural Silver)\n",
      "Saving Product: 2020 Lenovo 2-in-1 11.6\" Convertible Chromebook Touchscreen Laptop Computer/ Quad-Core MediaTek MT8173C (4C/ 2X A72 + 2X A53)/ 4GB Memory/ 32GB eMMC/ 802.11ac WiFi/ Bluetooth/ Type-C/ White/ Chrome OS\n",
      "Saving Product: New ! Dell Inspiron i3583 15.6\" HD Touch-Screen Laptop - Intel i3-8145U - 8GB DDR4-128GB SSD - Windows 10 - Wireless-AC - Bluetooth - SD Card Reader - HDMI & USB 3.1 -Waves MaxxAudio Pro- Black\n",
      "Saving Product: 2020 Newest HP Pavilion 15.6 Inch Touchscreen Laptop, AMD Ryzen 5 3500U up to 3.7 GHz, 12GB RAM, 256GB SSD, WiFi, HDMI, Windows 10 Home S, Silver + NexiGo Wireless Mouse Bundle\n",
      "Saving Product: ASUS VivoBook 15 Thin and Light Laptop, 15.6” FHD Display, Intel i3-1005G1 CPU, 8GB RAM, 128GB SSD, Backlit Keyboard, Fingerprint, Windows 10 Home in S Mode, Slate Gray, F512JA-AS34\n",
      "Saving Product: ASUS VivoBook 15 Thin and Light Laptop, 15.6” FHD Display, Intel i3-1005G1 CPU, 8GB RAM, 128GB SSD, Backlit Keyboard, Fingerprint, Windows 10 Home in S Mode, Slate Gray, F512JA-AS34\n",
      "Saving Product: (Renewed) Newest HP Stream 14 inches HD (1366x768) Display, Intel Celeron N4000 Dual-Core Processor, 4GB RAM, 32GB eMMC, HDMI, WiFi, Webcam, Bluetooth, Win10 S, Rose Pink\n",
      "Saving Product: New HP 15.6\" HD Touchscreen Laptop Intel Core i3-1005G1 8GB DDR4 RAM 128GB SSD HDMI Bluetooth 802.11/b/g/n/ac Windows 10 15-dy1731ms Silver\n",
      "Saving Product: HP 14\" Touchscreen Home and Business Laptop Ryzen 3-3200U, 8GB RAM, 128GB M.2 SSD, Dual-Core up to 3.50 GHz, Vega 3 Graphics, RJ-45, USB-C, 4K Output HDMI, Bluetooth, Webcam, 1366x768, Win 10\n",
      "Saving Product: 2020 HP 14“ Laptop (AMD A9-9425 up to 3.7 GHz, 4GB DDR4 RAM, 128GB SSD, AMD Radeon R5 Graphic, Wi-Fi, Bluetooth, HDMI, Windows 10 Home)\n",
      "Saving Product: 2020 HP 15 15.6\" HD Touchscreen Premium Laptop - 10th Gen Intel Core i5-1035G1, 16GB DDR4, 512GB SSD, USB Type-C, HDMI, Windows 10 - Silver W\n",
      "Saving Product: 2020 ASUS VivoBook 15 15.6 Inch FHD 1080P Laptop (AMD Ryzen 3 3200U up to 3.5GHz, 8GB DDR4 RAM, 256GB SSD, AMD Radeon Vega 3, Backlit Keyboard, FP Reader, WiFi, Bluetooth, HDMI, Windows 10) (Grey)\n",
      "Saving Product: Acer Predator Helios 300 Gaming Laptop, Intel Core i7-9750H, GeForce GTX 1660 Ti, 15.6\" Full HD 144Hz Display, 3ms Response Time, 16GB DDR4, 512GB PCIe NVMe SSD, RGB Backlit Keyboard, PH315-52-710B\n",
      "Saving Product: 2020 ASUS ImagineBook 14 Inch FHD 1080P Laptop| Intel Core m3-8100Y up to 3.4GHz| 4GB LPDDR4 RAM| 128GB SSD| WiFi| Bluetooth| HDMI| Windows 10 S + NexiGo Wireless Mouse Bundle\n",
      "Saving Product: 2020 Newest HP Pavilion 14 Inch Laptop (10th Gen Intel Core i3-1005G1 (Beats i5-7200U), 8GB RAM, 128GB SSD, Webcam, Windows 10 Home) (Gold) + NexiGo Wireless Mouse Bundle\n"
     ]
    }
   ],
   "source": [
    "!python3 searchresults.py"
   ]
  },
  {
   "cell_type": "code",
   "execution_count": 2,
   "metadata": {},
   "outputs": [],
   "source": [
    "import json \n",
    "import pandas as pd\n",
    "import numpy as np \n",
    "#json.load(json_data)\n",
    "#df = pd.read_json('search_results_output.jsonl')\n",
    "\n",
    "with open('search_results_output.jsonl','r') as zon: \n",
    "    results = [json.loads(j) for j in zon ]\n"
   ]
  },
  {
   "cell_type": "code",
   "execution_count": 14,
   "metadata": {},
   "outputs": [
    {
     "data": {
      "text/html": [
       "<div>\n",
       "<style scoped>\n",
       "    .dataframe tbody tr th:only-of-type {\n",
       "        vertical-align: middle;\n",
       "    }\n",
       "\n",
       "    .dataframe tbody tr th {\n",
       "        vertical-align: top;\n",
       "    }\n",
       "\n",
       "    .dataframe thead th {\n",
       "        text-align: right;\n",
       "    }\n",
       "</style>\n",
       "<table border=\"1\" class=\"dataframe\">\n",
       "  <thead>\n",
       "    <tr style=\"text-align: right;\">\n",
       "      <th></th>\n",
       "      <th>title</th>\n",
       "      <th>url</th>\n",
       "      <th>rating</th>\n",
       "      <th>reviews</th>\n",
       "      <th>price</th>\n",
       "      <th>search_url</th>\n",
       "    </tr>\n",
       "  </thead>\n",
       "  <tbody>\n",
       "    <tr>\n",
       "      <th>0</th>\n",
       "      <td>2020 Newest HP 14 Inch Premium Laptop, AMD Ath...</td>\n",
       "      <td>/gp/slredirect/picassoRedirect.html/ref=pa_sp_...</td>\n",
       "      <td>4.2 out of 5 stars</td>\n",
       "      <td>55</td>\n",
       "      <td>$329.00</td>\n",
       "      <td>https://www.amazon.com/s?k=laptops</td>\n",
       "    </tr>\n",
       "  </tbody>\n",
       "</table>\n",
       "</div>"
      ],
      "text/plain": [
       "                                               title  \\\n",
       "0  2020 Newest HP 14 Inch Premium Laptop, AMD Ath...   \n",
       "\n",
       "                                                 url              rating  \\\n",
       "0  /gp/slredirect/picassoRedirect.html/ref=pa_sp_...  4.2 out of 5 stars   \n",
       "\n",
       "  reviews    price                          search_url  \n",
       "0      55  $329.00  https://www.amazon.com/s?k=laptops  "
      ]
     },
     "execution_count": 14,
     "metadata": {},
     "output_type": "execute_result"
    }
   ],
   "source": [
    "\n",
    "pd.DataFrame(results[0].values(), index = results[0].keys()).T"
   ]
  },
  {
   "cell_type": "code",
   "execution_count": null,
   "metadata": {},
   "outputs": [],
   "source": []
  }
 ],
 "metadata": {
  "kernelspec": {
   "display_name": "Python 3",
   "language": "python",
   "name": "python3"
  },
  "language_info": {
   "codemirror_mode": {
    "name": "ipython",
    "version": 3
   },
   "file_extension": ".py",
   "mimetype": "text/x-python",
   "name": "python",
   "nbconvert_exporter": "python",
   "pygments_lexer": "ipython3",
   "version": "3.7.4"
  }
 },
 "nbformat": 4,
 "nbformat_minor": 4
}
